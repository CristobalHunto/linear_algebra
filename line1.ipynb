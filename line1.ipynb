{
 "cells": [
  {
   "cell_type": "code",
   "execution_count": 1,
   "metadata": {},
   "outputs": [],
   "source": [
    "import numpy as np\n",
    "a = np.array([ 0, 0, 0])\n",
    "b = np.array([ 2, 2, 0])\n",
    "c = np.array([ 2, 0, 1])\n",
    "d = np.array([ 0, 2, 1])"
   ]
  },
  {
   "cell_type": "code",
   "execution_count": 131,
   "metadata": {},
   "outputs": [],
   "source": [
    "a = np.array([ 4, 1, 3])\n",
    "b = np.array([ 1, 4,-3])\n",
    "c = np.array([ 1, 2, 1])\n",
    "d = np.array([ 3,-4,-5])"
   ]
  },
  {
   "cell_type": "code",
   "execution_count": 120,
   "metadata": {},
   "outputs": [],
   "source": [
    "a = np.array([ 1,-1,-3])\n",
    "b = np.array([ 5, 5, 5])\n",
    "c = np.array([-1, 1, 3])\n",
    "d = np.array([ 1, 4, 7])"
   ]
  },
  {
   "cell_type": "code",
   "execution_count": 2,
   "metadata": {},
   "outputs": [
    {
     "name": "stdout",
     "output_type": "stream",
     "text": [
      "если делитель равен нулю, то прямые паралельны 64\n",
      "u= 0.5 , v= 0.5\n",
      "точка сближения на отрезке AB = [1. 1. 0.]\n",
      "точка сближения на отрезке CD = [1. 1. 1.]\n",
      "растояние 1.0\n"
     ]
    }
   ],
   "source": [
    "#растояние можду скрещивающимися прямыми\n",
    "dir0 = b - a\n",
    "dir1 = d - c\n",
    "diff = a - c\n",
    "\n",
    "dir0_dir0 = np.dot(dir0, dir0)\n",
    "dir0_dir1 = np.dot(dir0, dir1)\n",
    "dir1_dir1 = np.dot(dir1, dir1)\n",
    "dir0_diff = np.dot(dir0, diff)\n",
    "dir1_diff = np.dot(dir1, diff)\n",
    "devv = dir0_dir0 * dir1_dir1 - dir0_dir1 * dir0_dir1\n",
    "print('если делитель равен нулю, то прямые паралельны', devv)\n",
    "\n",
    "u = (dir0_dir1 * dir1_diff - dir1_dir1 * dir0_diff) / devv\n",
    "v = (dir0_dir0 * dir1_diff - dir0_dir1 * dir0_diff) / devv\n",
    "print('u=', u, ', v=', v)\n",
    "\n",
    "p0 = a + u * dir0\n",
    "p1 = c + v * dir1\n",
    "print('точка сближения на отрезке AB =', p0)\n",
    "print('точка сближения на отрезке CD =', p1)\n",
    "print('растояние', np.linalg.norm(p0-p1))"
   ]
  },
  {
   "cell_type": "code",
   "execution_count": 16,
   "metadata": {},
   "outputs": [
    {
     "name": "stdout",
     "output_type": "stream",
     "text": [
      "скалярное произведение = 8.0\n",
      "смешенное произведение = 8\n",
      "растояние= 1.0\n"
     ]
    }
   ],
   "source": [
    "#растояние можду скрещивающимися прямыми \n",
    "#https://ru.wikipedia.org/wiki/%D0%A1%D0%BA%D1%80%D0%B5%D1%89%D0%B8%D0%B2%D0%B0%D1%8E%D1%89%D0%B8%D0%B5%D1%81%D1%8F_%D0%BF%D1%80%D1%8F%D0%BC%D1%8B%D0%B5\n",
    "dir0 = b - a\n",
    "dir1 = d - c\n",
    "diff = c - a\n",
    "\n",
    "dir0_dir1 = np.cross(dir0, dir1)\n",
    "devv = np.linalg.norm(dir0_dir1)\n",
    "chas = np.dot(diff, dir0_dir1)\n",
    "\n",
    "\n",
    "print('скалярное произведение =', devv)\n",
    "print('смешенное произведение =', chas)\n",
    "print('растояние=', chas/devv)\n"
   ]
  },
  {
   "cell_type": "code",
   "execution_count": 15,
   "metadata": {},
   "outputs": [
    {
     "name": "stdout",
     "output_type": "stream",
     "text": [
      "объем параллелепипеда = 8.00\n",
      "площать основаниия параллелепипеда = 8.0\n",
      "растояние = 1.00\n"
     ]
    }
   ],
   "source": [
    "#растояние можду скрещивающимися прямыми\n",
    "dir0 = b - a\n",
    "dir1 = d - c\n",
    "diff = a - c\n",
    "\n",
    "a1a2M1M2 = abs(np.linalg.det(np.array([dir0, dir1, diff])))\n",
    "print('объем параллелепипеда = %.2f' % a1a2M1M2)\n",
    "\n",
    "a1b1 = np.linalg.norm((np.cross(dir0, dir1)))\n",
    "\n",
    "print('площать основаниия параллелепипеда =', a1b1)\n",
    "print('растояние = %.2f' % (a1a2M1M2/a1b1))"
   ]
  },
  {
   "cell_type": "code",
   "execution_count": 11,
   "metadata": {},
   "outputs": [
    {
     "name": "stdout",
     "output_type": "stream",
     "text": [
      "площать параллелограмма = 4.898979485566356\n",
      "растояние = 1.732050807568877\n"
     ]
    }
   ],
   "source": [
    "#растояние от точки до прямой\n",
    "dir0 = b - a\n",
    "AM =   c - a\n",
    "\n",
    "AM_ab = np.linalg.norm(np.cross(AM, dir0))\n",
    "\n",
    "print('площать параллелограмма =', AM_ab)\n",
    "print('растояние =', AM_ab/np.linalg.norm(dir0))"
   ]
  },
  {
   "cell_type": "code",
   "execution_count": 17,
   "metadata": {},
   "outputs": [
    {
     "name": "stdout",
     "output_type": "stream",
     "text": [
      "u =  0.5\n"
     ]
    }
   ],
   "source": [
    "#проекция точки на прямую звданную параметрически f(u) = A + u(B - A)\n",
    "dir0 = b - a\n",
    "\n",
    "print('u = ',  np.dot(dir0, c - a) / np.dot(dir0, dir0))"
   ]
  },
  {
   "cell_type": "code",
   "execution_count": null,
   "metadata": {},
   "outputs": [],
   "source": []
  }
 ],
 "metadata": {
  "kernelspec": {
   "display_name": "Python 3",
   "language": "python",
   "name": "python3"
  },
  "language_info": {
   "codemirror_mode": {
    "name": "ipython",
    "version": 3
   },
   "file_extension": ".py",
   "mimetype": "text/x-python",
   "name": "python",
   "nbconvert_exporter": "python",
   "pygments_lexer": "ipython3",
   "version": "3.8.5"
  }
 },
 "nbformat": 4,
 "nbformat_minor": 4
}
