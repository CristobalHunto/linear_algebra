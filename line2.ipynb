{
 "cells": [
  {
   "cell_type": "code",
   "execution_count": 1,
   "metadata": {},
   "outputs": [],
   "source": [
    "import numpy as np\n",
    "m0 = np.array([ 0, 0, 0])\n",
    "m1 = np.array([ 1, 2, 0])\n",
    "m2 = np.array([ 2, 0, 0])\n",
    "a  = np.array([ 1, 1, 1])\n",
    "b  = np.array([ 1, 1, 2])"
   ]
  },
  {
   "cell_type": "code",
   "execution_count": 2,
   "metadata": {},
   "outputs": [
    {
     "name": "stdout",
     "output_type": "stream",
     "text": [
      "-1.0\n"
     ]
    }
   ],
   "source": [
    "n = np.cross(m1 - m0, m2 - m0)\n",
    "\n",
    "u = np.dot(n, a - m0) / np.dot(n, a - b)\n",
    "\n",
    "\n",
    "print(u)"
   ]
  },
  {
   "cell_type": "code",
   "execution_count": 3,
   "metadata": {},
   "outputs": [
    {
     "name": "stdout",
     "output_type": "stream",
     "text": [
      "2.0\n",
      "area1 = 0.500000, area2 = 1.000000, area3 = 0.500000, sum = 2.000000\n"
     ]
    }
   ],
   "source": [
    "def square_three (t0, t1, t2):\n",
    "    return (np.linalg.norm(t1 - t0) * np.linalg.norm(np.cross(t2 - t0, t1 - t0))/np.linalg.norm(t1 - t0)) / 2\n",
    "\n",
    "x = a + u * (b - a)\n",
    "\n",
    "print(square_three(m0, m1, m2))\n",
    "s0 = square_three(m0, m1, x)\n",
    "s1 = square_three(m0, x, m2)\n",
    "s2 = square_three(x, m1, m2)\n",
    "print('area1 = %f, area2 = %f, area3 = %f, sum = %f' % (s0, s1, s2, s0 + s1 + s2))"
   ]
  },
  {
   "cell_type": "code",
   "execution_count": null,
   "metadata": {},
   "outputs": [],
   "source": []
  }
 ],
 "metadata": {
  "kernelspec": {
   "display_name": "Python 3",
   "language": "python",
   "name": "python3"
  },
  "language_info": {
   "codemirror_mode": {
    "name": "ipython",
    "version": 3
   },
   "file_extension": ".py",
   "mimetype": "text/x-python",
   "name": "python",
   "nbconvert_exporter": "python",
   "pygments_lexer": "ipython3",
   "version": "3.8.5"
  }
 },
 "nbformat": 4,
 "nbformat_minor": 4
}
